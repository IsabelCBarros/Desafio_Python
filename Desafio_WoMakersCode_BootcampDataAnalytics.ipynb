{
  "nbformat": 4,
  "nbformat_minor": 0,
  "metadata": {
    "colab": {
      "provenance": [],
      "include_colab_link": true
    },
    "kernelspec": {
      "name": "python3",
      "display_name": "Python 3"
    },
    "language_info": {
      "name": "python"
    }
  },
  "cells": [
    {
      "cell_type": "markdown",
      "metadata": {
        "id": "view-in-github",
        "colab_type": "text"
      },
      "source": [
        "<a href=\"https://colab.research.google.com/github/IsabelCBarros/Desafio_Python/blob/main/Desafio_WoMakersCode_BootcampDataAnalytics.ipynb\" target=\"_parent\"><img src=\"https://colab.research.google.com/assets/colab-badge.svg\" alt=\"Open In Colab\"/></a>"
      ]
    },
    {
      "cell_type": "markdown",
      "source": [
        "1 ) Para determinar se um candidato está qualificado para uma vaga de emprego, são aplicados dois critérios:\n",
        "\n",
        "a) O candidato deve ter uma presença igual ou superior a 60% em um treinamento obrigatório.\n",
        "\n",
        "b) O candidato deve ter uma média de desempenho igual ou superior a 7 em uma série de testes.\n",
        "\n",
        "Para auxiliar na avaliação dos candidatos, você deve criar uma função que recebe uma lista de dicionários contendo o nome do candidato, a média de desempenho e a quantidade de horas de ausência do treinamento. Com esses dados, a função deve calcular se o candidato está qualificado ou não. A presença do candidato é calculada considerando que o treinamento teve um total de 60 horas e utilizando a fórmula:\n",
        "\n",
        "(Total horas - número de faltas)/Total horas * 100;\n"
      ],
      "metadata": {
        "id": "3UpM724I5C19"
      }
    },
    {
      "cell_type": "code",
      "source": [
        "candidatos = [\n",
        "    {'nome': 'João', 'media': 8, 'faltas': 0},\n",
        "    {'nome': 'Maria', 'media': 6, 'faltas': 10},\n",
        "    {'nome': 'Pedro', 'media': 7, 'faltas': 5}\n",
        "]\n",
        "\n",
        "candidatos_qualificados = []\n",
        "\n",
        "for candidato in candidatos:\n",
        "    presenca = (60 - candidato['faltas']) / 60 * 100\n",
        "    qualificado = presenca >= 60 and candidato['media'] >= 7\n",
        "\n",
        "    if qualificado:\n",
        "        candidatos_qualificados.append(candidato)\n",
        "\n",
        "print(candidatos_qualificados)"
      ],
      "metadata": {
        "id": "Xv1MnjPQvkSt",
        "colab": {
          "base_uri": "https://localhost:8080/"
        },
        "outputId": "f161a524-23db-4bda-c201-b3f7d7d7ca38"
      },
      "execution_count": null,
      "outputs": [
        {
          "output_type": "stream",
          "name": "stdout",
          "text": [
            "[{'nome': 'João', 'media': 8, 'faltas': 0}, {'nome': 'Pedro', 'media': 7, 'faltas': 5}]\n"
          ]
        }
      ]
    },
    {
      "cell_type": "markdown",
      "source": [
        "2) Crie uma função que recebe uma palavra (string), separa todos os caracteres em uma lista, retorna esta lista e quantidade de letras."
      ],
      "metadata": {
        "id": "fKKdyWo55e8w"
      }
    },
    {
      "cell_type": "code",
      "source": [
        "def separa_palavra(palavra):\n",
        "    lista_caracteres = list(palavra)\n",
        "    quantidade_letras = len(lista_caracteres)\n",
        "\n",
        "    return lista_caracteres, quantidade_letras\n",
        "\n",
        "palavra = \"WoMakersCode\"\n",
        "\n",
        "lista_caracteres, quantidade_letras = separa_palavra(palavra)\n",
        "\n",
        "print(lista_caracteres)\n",
        "print(quantidade_letras)"
      ],
      "metadata": {
        "id": "Qq7QoqubvjbG",
        "colab": {
          "base_uri": "https://localhost:8080/"
        },
        "outputId": "bd86d742-55f1-43e2-d952-868192699c77"
      },
      "execution_count": null,
      "outputs": [
        {
          "output_type": "stream",
          "name": "stdout",
          "text": [
            "['W', 'o', 'M', 'a', 'k', 'e', 'r', 's', 'C', 'o', 'd', 'e']\n",
            "12\n"
          ]
        }
      ]
    },
    {
      "cell_type": "markdown",
      "source": [
        "3) Crie um programa que leia quanto dinheiro uma pessoa tem na carteira, e calcule quanto poderia comprar de cada moeda estrangeira. Considere a tabela de conversão abaixo:\n",
        "\n",
        "Valor convertido em real:\n",
        "*   Dólar Americano: 4,91\n",
        "*   Peso Argentino: 0,02\n",
        "*   Dólar Australiano: 3,18\n",
        "*   Dólar Canadense: 3,64\n",
        "*   Franco Suiço: 0,42\n",
        "*   Euro:  5,36\n",
        "*   Libra esterlina: 6,21\n",
        "\n",
        "\n",
        "\n",
        "\n",
        "\n",
        "\n",
        "\n"
      ],
      "metadata": {
        "id": "EEXxWdjH5sju"
      }
    },
    {
      "cell_type": "code",
      "source": [
        "def converter_moeda(moeda, valor_reais):\n",
        "\n",
        "\n",
        "  if moeda == \"dólar americano\":\n",
        "    return round(valor_reais * 4.91, 2)\n",
        "  elif moeda == \"peso argentino\":\n",
        "    return round(valor_reais * 0.02, 2)\n",
        "  elif moeda == \"dólar australiano\":\n",
        "    return round(valor_reais * 3.18, 2)\n",
        "  elif moeda == \"dólar canadense\":\n",
        "    return round(valor_reais * 3.64, 2)\n",
        "  elif moeda == \"franco suíço\":\n",
        "    return round(valor_reais * 0.42, 2)\n",
        "  elif moeda == \"euro\":\n",
        "    return round(valor_reais * 5.36, 2)\n",
        "  elif moeda == \"libra esterlina\":\n",
        "    return round(valor_reais * 6.21, 2)\n",
        "  else:\n",
        "    raise ValueError(f\"Moeda '{moeda}' não é suportada.\")\n",
        "\n",
        "\n",
        "def main():\n",
        "\n",
        "\n",
        "  valor_reais = float(input(\"Quanto dinheiro você tem na carteira em reais? \"))\n",
        "\n",
        "  # Imprime a quantidade de cada moeda estrangeira que a pessoa poderia comprar\n",
        "\n",
        "  for moeda in [\"dólar americano\", \"peso argentino\", \"dólar australiano\", \"dólar canadense\", \"franco suíço\", \"euro\", \"libra esterlina\"]:\n",
        "    quantidade_moeda = converter_moeda(moeda, valor_reais)\n",
        "    print(f\"Você poderia comprar {quantidade_moeda:.2f} {moeda} com R${valor_reais:.2f}.\")\n",
        "\n",
        "\n",
        "if __name__ == \"__main__\":\n",
        "  main()"
      ],
      "metadata": {
        "id": "BFil1HpZvbFg",
        "colab": {
          "base_uri": "https://localhost:8080/"
        },
        "outputId": "688c606f-b5cb-47d6-a5ec-4dd2afda20c9"
      },
      "execution_count": null,
      "outputs": [
        {
          "output_type": "stream",
          "name": "stdout",
          "text": [
            "Quanto dinheiro você tem na carteira em reais? 3.18\n",
            "Você poderia comprar 15.61 dólar americano com R$3.18.\n",
            "Você poderia comprar 0.06 peso argentino com R$3.18.\n",
            "Você poderia comprar 10.11 dólar australiano com R$3.18.\n",
            "Você poderia comprar 11.58 dólar canadense com R$3.18.\n",
            "Você poderia comprar 1.34 franco suíço com R$3.18.\n",
            "Você poderia comprar 17.04 euro com R$3.18.\n",
            "Você poderia comprar 19.75 libra esterlina com R$3.18.\n"
          ]
        }
      ]
    },
    {
      "cell_type": "markdown",
      "source": [
        "\n",
        "4) O chefe decidiu premiar os melhores funcionários de sua empresa com um brinde. Para isso ela vai entregar um brinde para todos os funcionários que tiverem uma performance superior a média da equipe.\n",
        "\n",
        "Elabore uma função que recebe uma lista de nome em formato de dict (dicionário) com nome do funcionário e a média do funcionário (Valor de 0 a 10). Esta função deve calcular a média da equipe, identificar quais funcionários tem média igual ou superior a média da equipe e retornar uma lista com o nome dos funcionários que possuem média igual ou superior a média da equipe. A ordem dos nomes da lista de retorno deve ser em ordem decrescente."
      ],
      "metadata": {
        "id": "Tj2Ds76-6FXs"
      }
    },
    {
      "cell_type": "code",
      "source": [
        "def premiar_funcionarios(funcionarios):\n",
        "  \"\"\"\n",
        "  Recebe uma lista de funcionários em formato de dicionário e retorna uma lista\n",
        "  com os nomes dos funcionários com média superior à média da equipe.\n",
        "\n",
        "  Args:\n",
        "    funcionarios: Lista de funcionários em formato de dicionário.\n",
        "\n",
        "  Returns:\n",
        "    Lista com os nomes dos funcionários com média superior à média da equipe.\n",
        "  \"\"\"\n",
        "\n",
        "  # Calcula a média da equipe.\n",
        "  media_equipe = sum(funcionario[\"media\"] for funcionario in funcionarios) / len(funcionarios)\n",
        "\n",
        "  # Cria uma lista com os funcionários com média superior à média da equipe.\n",
        "  funcionarios_com_media_superior = [\n",
        "      funcionario[\"nome\"]\n",
        "      for funcionario in funcionarios\n",
        "      if funcionario[\"media\"] >= media_equipe\n",
        "  ]\n",
        "\n",
        "  # Ordena a lista de funcionários em ordem decrescente.\n",
        "  funcionarios_com_media_superior.sort(reverse=True)\n",
        "\n",
        "  return funcionarios_com_media_superior\n",
        "\n",
        "\n",
        "# Exemplo de uso.\n",
        "funcionarios = [\n",
        "    {\"nome\": \"João\", \"media\": 9},\n",
        "    {\"nome\": \"Maria\", \"media\": 8},\n",
        "    {\"nome\": \"José\", \"media\": 7},\n",
        "    {\"nome\": \"Ana\", \"media\": 6},\n",
        "]\n",
        "\n",
        "print(premiar_funcionarios(funcionarios))\n",
        ""
      ],
      "metadata": {
        "id": "poEG0mnOvgSO",
        "colab": {
          "base_uri": "https://localhost:8080/"
        },
        "outputId": "007156b7-ce47-4123-9f50-7cf768c70e90"
      },
      "execution_count": 2,
      "outputs": [
        {
          "output_type": "stream",
          "name": "stdout",
          "text": [
            "['Maria', 'João']\n"
          ]
        }
      ]
    },
    {
      "cell_type": "markdown",
      "source": [
        "5) Na variável países_ano, temos uma lista de listas, em que cada elemento é uma lista de dois elementos, em que o primeiro é o nome de um país e o segundo é o ano em que a nação foi fundada."
      ],
      "metadata": {
        "id": "pVSP5n1T_ZWQ"
      }
    },
    {
      "cell_type": "code",
      "source": [
        "lista_paises = [[\"Brasil\", \"1500\"],[\"Mexico\",\"1519\"], [\"Inglaterra\", \"927\"], [\"Espanha\",\"1978\"], [\"Escocia\", \"843\"]]"
      ],
      "metadata": {
        "id": "zRywrNff01he"
      },
      "execution_count": null,
      "outputs": []
    },
    {
      "cell_type": "markdown",
      "source": [
        "Você deseja criar uma nova lista de listas a partir do exemplo (lista_paises), em que cada elemento é uma lista de dois elementos, sendo o primeiro o nome do país (como é na lista original) e o segundo é o número de anos desde a fundação do país (considere que o ano atual é 2023)."
      ],
      "metadata": {
        "id": "OpU-UWXC01Ca"
      }
    },
    {
      "cell_type": "code",
      "source": [
        "anos_desde_fundacao = []\n",
        "for pais in lista_paises:\n",
        "    anos_desde_fundacao.append([pais[0], 2023 - int(pais[1])])\n",
        "\n",
        "print(anos_desde_fundacao)"
      ],
      "metadata": {
        "id": "xaEQxcMFvhVa",
        "colab": {
          "base_uri": "https://localhost:8080/"
        },
        "outputId": "98c3c164-ca84-4834-ddda-3211f636b2b2"
      },
      "execution_count": 5,
      "outputs": [
        {
          "output_type": "stream",
          "name": "stdout",
          "text": [
            "[['Brasil', 523], ['Mexico', 504], ['Inglaterra', 1096], ['Espanha', 45], ['Escocia', 1180]]\n"
          ]
        }
      ]
    },
    {
      "cell_type": "markdown",
      "source": [
        "6) Um jogador de um jogo de vídeo game deseja subir de nível em seu personagem ao atingir 50 inimigos derrotados. Enquanto esse número não é alcançado, uma mensagem indicando quantos inimigos ainda faltam é exibida na tela.\n"
      ],
      "metadata": {
        "id": "_qb748YiCzh-"
      }
    },
    {
      "cell_type": "code",
      "source": [
        "inimigos_derrotados = 0\n",
        "nivel = 0\n",
        "\n",
        "while (inimigos_derrotados < 50):\n",
        "\n",
        "    print(f\"Faltam {50 - inimigos_derrotados} inimigos para você mudar de nível!\")\n",
        "\n",
        "    inimigos_derrotados += 1\n",
        "\n",
        "print(\"\\nVocê atingiu o próximo nível!\")\n",
        "nivel = 1"
      ],
      "metadata": {
        "id": "wooL40fJi_gj",
        "colab": {
          "base_uri": "https://localhost:8080/"
        },
        "outputId": "e627d573-3ec8-486a-f948-ac18486449c4"
      },
      "execution_count": 7,
      "outputs": [
        {
          "output_type": "stream",
          "name": "stdout",
          "text": [
            "Faltam 50 inimigos para você mudar de nível!\n",
            "Faltam 49 inimigos para você mudar de nível!\n",
            "Faltam 48 inimigos para você mudar de nível!\n",
            "Faltam 47 inimigos para você mudar de nível!\n",
            "Faltam 46 inimigos para você mudar de nível!\n",
            "Faltam 45 inimigos para você mudar de nível!\n",
            "Faltam 44 inimigos para você mudar de nível!\n",
            "Faltam 43 inimigos para você mudar de nível!\n",
            "Faltam 42 inimigos para você mudar de nível!\n",
            "Faltam 41 inimigos para você mudar de nível!\n",
            "Faltam 40 inimigos para você mudar de nível!\n",
            "Faltam 39 inimigos para você mudar de nível!\n",
            "Faltam 38 inimigos para você mudar de nível!\n",
            "Faltam 37 inimigos para você mudar de nível!\n",
            "Faltam 36 inimigos para você mudar de nível!\n",
            "Faltam 35 inimigos para você mudar de nível!\n",
            "Faltam 34 inimigos para você mudar de nível!\n",
            "Faltam 33 inimigos para você mudar de nível!\n",
            "Faltam 32 inimigos para você mudar de nível!\n",
            "Faltam 31 inimigos para você mudar de nível!\n",
            "Faltam 30 inimigos para você mudar de nível!\n",
            "Faltam 29 inimigos para você mudar de nível!\n",
            "Faltam 28 inimigos para você mudar de nível!\n",
            "Faltam 27 inimigos para você mudar de nível!\n",
            "Faltam 26 inimigos para você mudar de nível!\n",
            "Faltam 25 inimigos para você mudar de nível!\n",
            "Faltam 24 inimigos para você mudar de nível!\n",
            "Faltam 23 inimigos para você mudar de nível!\n",
            "Faltam 22 inimigos para você mudar de nível!\n",
            "Faltam 21 inimigos para você mudar de nível!\n",
            "Faltam 20 inimigos para você mudar de nível!\n",
            "Faltam 19 inimigos para você mudar de nível!\n",
            "Faltam 18 inimigos para você mudar de nível!\n",
            "Faltam 17 inimigos para você mudar de nível!\n",
            "Faltam 16 inimigos para você mudar de nível!\n",
            "Faltam 15 inimigos para você mudar de nível!\n",
            "Faltam 14 inimigos para você mudar de nível!\n",
            "Faltam 13 inimigos para você mudar de nível!\n",
            "Faltam 12 inimigos para você mudar de nível!\n",
            "Faltam 11 inimigos para você mudar de nível!\n",
            "Faltam 10 inimigos para você mudar de nível!\n",
            "Faltam 9 inimigos para você mudar de nível!\n",
            "Faltam 8 inimigos para você mudar de nível!\n",
            "Faltam 7 inimigos para você mudar de nível!\n",
            "Faltam 6 inimigos para você mudar de nível!\n",
            "Faltam 5 inimigos para você mudar de nível!\n",
            "Faltam 4 inimigos para você mudar de nível!\n",
            "Faltam 3 inimigos para você mudar de nível!\n",
            "Faltam 2 inimigos para você mudar de nível!\n",
            "Faltam 1 inimigos para você mudar de nível!\n",
            "\n",
            "Você atingiu o próximo nível!\n"
          ]
        }
      ]
    }
  ]
}